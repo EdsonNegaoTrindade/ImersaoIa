{
  "nbformat": 4,
  "nbformat_minor": 0,
  "metadata": {
    "colab": {
      "provenance": [],
      "authorship_tag": "ABX9TyP77FCoBEfeJjnaZvtKnyP9",
      "include_colab_link": true
    },
    "kernelspec": {
      "name": "python3",
      "display_name": "Python 3"
    },
    "language_info": {
      "name": "python"
    }
  },
  "cells": [
    {
      "cell_type": "markdown",
      "metadata": {
        "id": "view-in-github",
        "colab_type": "text"
      },
      "source": [
        "<a href=\"https://colab.research.google.com/github/EdsonNegaoTrindade/ImersaoIa/blob/main/ImersaoIA.ipynb\" target=\"_parent\"><img src=\"https://colab.research.google.com/assets/colab-badge.svg\" alt=\"Open In Colab\"/></a>"
      ]
    },
    {
      "cell_type": "code",
      "execution_count": 22,
      "metadata": {
        "id": "_lfXy39o3njv"
      },
      "outputs": [],
      "source": [
        "!pip install -q -U google-generativeai\n",
        "# Import the Python SDK\n",
        "import google.generativeai as genai\n",
        "# Used to securely store your API key\n",
        "\n",
        "from google.colab import userdata\n",
        "api_key = userdata.get('secret_key')\n",
        "#genei.configure(api_key=api_key)\n",
        "\n",
        "GOOGLE_API_KEY='secret_key'\n",
        "genai.configure(api_key=api_key)\n",
        "\n"
      ]
    },
    {
      "cell_type": "code",
      "source": [
        "for m in genai.list_models():\n",
        "  if 'generateContent' in m.supported_generation_methods:\n",
        "    print(m.name)"
      ],
      "metadata": {
        "colab": {
          "base_uri": "https://localhost:8080/",
          "height": 139
        },
        "id": "MgiTS2z14l1m",
        "outputId": "e8afbdf5-552c-4887-8270-28c8877363e7"
      },
      "execution_count": 10,
      "outputs": [
        {
          "output_type": "stream",
          "name": "stdout",
          "text": [
            "models/gemini-1.0-pro\n",
            "models/gemini-1.0-pro-001\n",
            "models/gemini-1.0-pro-latest\n",
            "models/gemini-1.0-pro-vision-latest\n",
            "models/gemini-1.5-pro-latest\n",
            "models/gemini-pro\n",
            "models/gemini-pro-vision\n"
          ]
        }
      ]
    },
    {
      "cell_type": "code",
      "source": [
        "generation_config = {\n",
        "    'candidate_count': 1,\n",
        "    'temperature': 0.5\n",
        "}"
      ],
      "metadata": {
        "id": "taPw0rGb4d_A"
      },
      "execution_count": 12,
      "outputs": []
    },
    {
      "cell_type": "code",
      "source": [
        "safety_settings = {\n",
        "    'HARASSMENT': 'BLOCK_NONE',\n",
        "    'HATE': 'BLOCK_NONE',\n",
        "    'SEXUAL': 'BLOCK_NONE',\n",
        "    'DANGEROUS': 'BLOCK_NONE'\n",
        "}"
      ],
      "metadata": {
        "id": "fAjw_8sl9ExZ"
      },
      "execution_count": 13,
      "outputs": []
    },
    {
      "cell_type": "code",
      "source": [
        "model = genai.GenerativeModel(\n",
        "    model_name = 'gemini-1.0-pro',\n",
        "    generation_config = generation_config,\n",
        "    safety_settings = safety_settings)"
      ],
      "metadata": {
        "id": "yQFBerzUMiMR"
      },
      "execution_count": 14,
      "outputs": []
    },
    {
      "cell_type": "code",
      "source": [
        "response = model.generate_content('Vamos Prender conteúdo sobre IA.  Me de sugestões.')\n",
        "print(response.text)"
      ],
      "metadata": {
        "id": "Oxqwd3BZNdql"
      },
      "execution_count": null,
      "outputs": []
    },
    {
      "cell_type": "code",
      "source": [
        "chat = model.start_chat(history=[])"
      ],
      "metadata": {
        "id": "LJ8v5uuA2u2N"
      },
      "execution_count": 16,
      "outputs": []
    },
    {
      "cell_type": "code",
      "source": [
        "prompt = input('Faça uma Pergunta:  ')\n",
        "while prompt != \"fim\":\n",
        "  response = chat.send_message(prompt)\n",
        "  print(\"Resposta:\", response.text, '\\n')\n",
        "  prompt = input('Faça uma Pergunta: ')"
      ],
      "metadata": {
        "colab": {
          "base_uri": "https://localhost:8080/",
          "height": 434
        },
        "id": "-KSJeCGhUEps",
        "outputId": "f54243be-7219-4683-a41c-e7fa5d271547"
      },
      "execution_count": 18,
      "outputs": [
        {
          "name": "stdout",
          "output_type": "stream",
          "text": [
            "Faça uma Pergunta:  quantos gols o pele fez\n",
            "Resposta: 1.281 \n",
            "\n",
            "Faça uma Pergunta: e ele morreu com quantos anos\n",
            "Resposta: 82 \n",
            "\n",
            "Faça uma Pergunta: com quantos anos Jesus morreu\n",
            "Resposta: 33 \n",
            "\n",
            "Faça uma Pergunta: e ele nasceu onde\n",
            "Resposta: Belém \n",
            "\n",
            "Faça uma Pergunta: gere um código em python para baixar arquivos de uma url\n",
            "Resposta: ```python\n",
            "import requests\n",
            "\n",
            "url = 'https://example.com/file.zip'\n",
            "r = requests.get(url)\n",
            "\n",
            "with open('file.zip', 'wb') as f:\n",
            "    f.write(r.content)\n",
            "``` \n",
            "\n",
            "Faça uma Pergunta: fim\n"
          ]
        }
      ]
    }
  ]
}